{
  "nbformat": 4,
  "nbformat_minor": 0,
  "metadata": {
    "colab": {
      "provenance": []
    },
    "kernelspec": {
      "name": "python3",
      "display_name": "Python 3"
    },
    "language_info": {
      "name": "python"
    }
  },
  "cells": [
    {
      "cell_type": "code",
      "source": [
        "!pip install -q streamlit"
      ],
      "metadata": {
        "id": "cecyIV0QFfKk"
      },
      "execution_count": 10,
      "outputs": []
    },
    {
      "cell_type": "code",
      "source": [
        "%%writefile app.py\n",
        "import streamlit as st\n",
        "import pandas as pd\n",
        "import numpy as np\n",
        "\n",
        "df = pd.read_csv('https://raw.githubusercontent.com/slow312/dashboard-streamlit/main/data/HIV_AIDS_Diagnoses_by_Neighborhood__Age_Group__and_Race_Ethnicity.csv')\n",
        "\n",
        "df_race = df.filter(['RACE/ETHNICITY','TOTAL NUMBER OF HIV DIAGNOSES','TOTAL NUMBER OF AIDS DIAGNOSES'])\n",
        "# Get rid of irrelevant rows\n",
        "df_race = df_race[df_race['TOTAL NUMBER OF HIV DIAGNOSES'].apply(lambda x: str(x).isdigit())]\n",
        "df_race = df_race[df_race['TOTAL NUMBER OF AIDS DIAGNOSES'].apply(lambda x: str(x).isdigit())]\n",
        "df_race = df_race[df_race['RACE/ETHNICITY'].str.contains('Unknown')==False ]\n",
        "# Convert columns to integers\n",
        "df_race['TOTAL NUMBER OF HIV DIAGNOSES'] = df_race['TOTAL NUMBER OF HIV DIAGNOSES'].astype(int)\n",
        "df_race['TOTAL NUMBER OF AIDS DIAGNOSES'] = df_race['TOTAL NUMBER OF AIDS DIAGNOSES'].astype(int)\n",
        "# Group by race and get sum of each group\n",
        "df_race = df_race.groupby('RACE/ETHNICITY').sum()\n",
        "\n",
        "df_year = df.filter(['YEAR','TOTAL NUMBER OF HIV DIAGNOSES','TOTAL NUMBER OF AIDS DIAGNOSES'])\n",
        "# Get rid of irrelevant rows\n",
        "df_year = df_year[df_year['TOTAL NUMBER OF HIV DIAGNOSES'].apply(lambda x: str(x).isdigit())]\n",
        "df_year = df_year[df_year['TOTAL NUMBER OF AIDS DIAGNOSES'].apply(lambda x: str(x).isdigit())]\n",
        "# Convert columns to integers\n",
        "df_year['TOTAL NUMBER OF HIV DIAGNOSES'] = df_year['TOTAL NUMBER OF HIV DIAGNOSES'].astype(int)\n",
        "df_year['TOTAL NUMBER OF AIDS DIAGNOSES'] = df_year['TOTAL NUMBER OF AIDS DIAGNOSES'].astype(int)\n",
        "# Group by year and get sum of each group\n",
        "df_year = df_year.groupby('YEAR').sum()\n",
        "\n",
        "# Putting together dashboard\n",
        "st.title('HIV/AIDS Diagnoses by Year and Race/Ethnicity')\n",
        "\n",
        "st.subheader('HIV/AIDS Diagnoses by Race/Ethnicity')\n",
        "st.text('This dataframe and chart shows the number of HIV/AIDS diagnoses by Race/Ethnicity')\n",
        "st.dataframe(df_race)\n",
        "st.bar_chart(df_race)\n",
        "\n",
        "st.subheader('HIV/AIDS Diagnoses by Year')\n",
        "st.text('This dataframe and chart shows the number of HIV/AIDS diagnoses by Year')\n",
        "st.dataframe(df_year)\n",
        "st.line_chart(df_year)\n",
        "\n",
        "st.subheader('This is the code used for the dataset')\n",
        "st.dataframe(df)\n",
        "code = '''\n",
        "df_race = df.filter(['RACE/ETHNICITY','TOTAL NUMBER OF HIV DIAGNOSES','TOTAL NUMBER OF AIDS DIAGNOSES'])\n",
        "# Get rid of irrelevant rows\n",
        "df_race = df_race[df_race['TOTAL NUMBER OF HIV DIAGNOSES'].apply(lambda x: str(x).isdigit())]\n",
        "df_race = df_race[df_race['TOTAL NUMBER OF AIDS DIAGNOSES'].apply(lambda x: str(x).isdigit())]\n",
        "df_race = df_race[df_race['RACE/ETHNICITY'].str.contains('Unknown')==False ]\n",
        "# Convert columns to integers\n",
        "df_race['TOTAL NUMBER OF HIV DIAGNOSES'] = df_race['TOTAL NUMBER OF HIV DIAGNOSES'].astype(int)\n",
        "df_race['TOTAL NUMBER OF AIDS DIAGNOSES'] = df_race['TOTAL NUMBER OF AIDS DIAGNOSES'].astype(int)\n",
        "# Group by race and get sum of each group\n",
        "df_race = df_race.groupby('RACE/ETHNICITY').sum()\n",
        "\n",
        "df_year = df.filter(['YEAR','TOTAL NUMBER OF HIV DIAGNOSES','TOTAL NUMBER OF AIDS DIAGNOSES'])\n",
        "# Get rid of irrelevant rows\n",
        "df_year = df_year[df_year['TOTAL NUMBER OF HIV DIAGNOSES'].apply(lambda x: str(x).isdigit())]\n",
        "df_year = df_year[df_year['TOTAL NUMBER OF AIDS DIAGNOSES'].apply(lambda x: str(x).isdigit())]\n",
        "# Convert columns to integers\n",
        "df_year['TOTAL NUMBER OF HIV DIAGNOSES'] = df_year['TOTAL NUMBER OF HIV DIAGNOSES'].astype(int)\n",
        "df_year['TOTAL NUMBER OF AIDS DIAGNOSES'] = df_year['TOTAL NUMBER OF AIDS DIAGNOSES'].astype(int)\n",
        "# Group by year and get sum of each group\n",
        "df_year = df_year.groupby('YEAR').sum()\n",
        "\n",
        "'''\n",
        "st.code(code, language='python')\n",
        "\n",
        "\n",
        "\n",
        "\n",
        "\n"
      ],
      "metadata": {
        "colab": {
          "base_uri": "https://localhost:8080/"
        },
        "id": "0veKA6g_Fs6k",
        "outputId": "b6e0842b-3345-4dcd-fd31-d49b9dfcdefc"
      },
      "execution_count": 11,
      "outputs": [
        {
          "output_type": "stream",
          "name": "stdout",
          "text": [
            "Writing app.py\n"
          ]
        }
      ]
    },
    {
      "cell_type": "code",
      "source": [
        "!npm install localtunnel"
      ],
      "metadata": {
        "colab": {
          "base_uri": "https://localhost:8080/"
        },
        "id": "v8MxovVAKZOZ",
        "outputId": "1076934f-208f-432b-e414-28306b4c0c7b"
      },
      "execution_count": 12,
      "outputs": [
        {
          "output_type": "stream",
          "name": "stdout",
          "text": [
            "\u001b[K\u001b[?25h\u001b[37;40mnpm\u001b[0m \u001b[0m\u001b[30;43mWARN\u001b[0m \u001b[0m\u001b[35msaveError\u001b[0m ENOENT: no such file or directory, open '/content/package.json'\n",
            "\u001b[0m\u001b[37;40mnpm\u001b[0m \u001b[0m\u001b[34;40mnotice\u001b[0m\u001b[35m\u001b[0m created a lockfile as package-lock.json. You should commit this file.\n",
            "\u001b[0m\u001b[37;40mnpm\u001b[0m \u001b[0m\u001b[30;43mWARN\u001b[0m \u001b[0m\u001b[35menoent\u001b[0m ENOENT: no such file or directory, open '/content/package.json'\n",
            "\u001b[0m\u001b[37;40mnpm\u001b[0m \u001b[0m\u001b[30;43mWARN\u001b[0m\u001b[35m\u001b[0m content No description\n",
            "\u001b[0m\u001b[37;40mnpm\u001b[0m \u001b[0m\u001b[30;43mWARN\u001b[0m\u001b[35m\u001b[0m content No repository field.\n",
            "\u001b[0m\u001b[37;40mnpm\u001b[0m \u001b[0m\u001b[30;43mWARN\u001b[0m\u001b[35m\u001b[0m content No README data\n",
            "\u001b[0m\u001b[37;40mnpm\u001b[0m \u001b[0m\u001b[30;43mWARN\u001b[0m\u001b[35m\u001b[0m content No license field.\n",
            "\u001b[0m\n",
            "+ localtunnel@2.0.2\n",
            "added 22 packages from 22 contributors and audited 22 packages in 1.706s\n",
            "\n",
            "3 packages are looking for funding\n",
            "  run `npm fund` for details\n",
            "\n",
            "found \u001b[92m0\u001b[0m vulnerabilities\n",
            "\n",
            "\u001b[K\u001b[?25h"
          ]
        }
      ]
    },
    {
      "cell_type": "code",
      "source": [
        "!streamlit run /content/app.py &>/content/logs.txt &"
      ],
      "metadata": {
        "id": "z16xv2P5KhSY"
      },
      "execution_count": 13,
      "outputs": []
    },
    {
      "cell_type": "code",
      "source": [
        "!npx localtunnel --port 8501"
      ],
      "metadata": {
        "colab": {
          "base_uri": "https://localhost:8080/"
        },
        "id": "Vpli86upKkRl",
        "outputId": "396cedc5-5fd8-4947-84b5-2580c5de8fef"
      },
      "execution_count": null,
      "outputs": [
        {
          "output_type": "stream",
          "name": "stdout",
          "text": [
            "\u001b[K\u001b[?25hnpx: installed 22 in 1.578s\n",
            "your url is: https://tender-donuts-ask-35-229-131-66.loca.lt\n"
          ]
        }
      ]
    }
  ]
}